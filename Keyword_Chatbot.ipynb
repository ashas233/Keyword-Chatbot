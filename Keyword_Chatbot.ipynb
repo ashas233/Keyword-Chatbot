{
  "nbformat": 4,
  "nbformat_minor": 0,
  "metadata": {
    "colab": {
      "provenance": []
    },
    "kernelspec": {
      "name": "python3",
      "display_name": "Python 3"
    },
    "language_info": {
      "name": "python"
    }
  },
  "cells": [
    {
      "cell_type": "code",
      "execution_count": 1,
      "metadata": {
        "colab": {
          "base_uri": "https://localhost:8080/"
        },
        "id": "5WHaXlnB_jBn",
        "outputId": "a9d799fa-96bd-49ec-95a6-f6c4aa58ab51"
      },
      "outputs": [
        {
          "output_type": "stream",
          "name": "stdout",
          "text": [
            "Collecting streamlit\n",
            "  Downloading streamlit-1.49.1-py3-none-any.whl.metadata (9.5 kB)\n",
            "Collecting pyngrok==4.1.1\n",
            "  Downloading pyngrok-4.1.1.tar.gz (18 kB)\n",
            "  Preparing metadata (setup.py) ... \u001b[?25l\u001b[?25hdone\n",
            "Requirement already satisfied: future in /usr/local/lib/python3.12/dist-packages (from pyngrok==4.1.1) (1.0.0)\n",
            "Requirement already satisfied: PyYAML in /usr/local/lib/python3.12/dist-packages (from pyngrok==4.1.1) (6.0.2)\n",
            "Requirement already satisfied: altair!=5.4.0,!=5.4.1,<6,>=4.0 in /usr/local/lib/python3.12/dist-packages (from streamlit) (5.5.0)\n",
            "Requirement already satisfied: blinker<2,>=1.5.0 in /usr/local/lib/python3.12/dist-packages (from streamlit) (1.9.0)\n",
            "Requirement already satisfied: cachetools<7,>=4.0 in /usr/local/lib/python3.12/dist-packages (from streamlit) (5.5.2)\n",
            "Requirement already satisfied: click<9,>=7.0 in /usr/local/lib/python3.12/dist-packages (from streamlit) (8.2.1)\n",
            "Requirement already satisfied: numpy<3,>=1.23 in /usr/local/lib/python3.12/dist-packages (from streamlit) (2.0.2)\n",
            "Requirement already satisfied: packaging<26,>=20 in /usr/local/lib/python3.12/dist-packages (from streamlit) (25.0)\n",
            "Requirement already satisfied: pandas<3,>=1.4.0 in /usr/local/lib/python3.12/dist-packages (from streamlit) (2.2.2)\n",
            "Requirement already satisfied: pillow<12,>=7.1.0 in /usr/local/lib/python3.12/dist-packages (from streamlit) (11.3.0)\n",
            "Requirement already satisfied: protobuf<7,>=3.20 in /usr/local/lib/python3.12/dist-packages (from streamlit) (5.29.5)\n",
            "Requirement already satisfied: pyarrow>=7.0 in /usr/local/lib/python3.12/dist-packages (from streamlit) (18.1.0)\n",
            "Requirement already satisfied: requests<3,>=2.27 in /usr/local/lib/python3.12/dist-packages (from streamlit) (2.32.4)\n",
            "Requirement already satisfied: tenacity<10,>=8.1.0 in /usr/local/lib/python3.12/dist-packages (from streamlit) (8.5.0)\n",
            "Requirement already satisfied: toml<2,>=0.10.1 in /usr/local/lib/python3.12/dist-packages (from streamlit) (0.10.2)\n",
            "Requirement already satisfied: typing-extensions<5,>=4.4.0 in /usr/local/lib/python3.12/dist-packages (from streamlit) (4.15.0)\n",
            "Requirement already satisfied: watchdog<7,>=2.1.5 in /usr/local/lib/python3.12/dist-packages (from streamlit) (6.0.0)\n",
            "Requirement already satisfied: gitpython!=3.1.19,<4,>=3.0.7 in /usr/local/lib/python3.12/dist-packages (from streamlit) (3.1.45)\n",
            "Collecting pydeck<1,>=0.8.0b4 (from streamlit)\n",
            "  Downloading pydeck-0.9.1-py2.py3-none-any.whl.metadata (4.1 kB)\n",
            "Requirement already satisfied: tornado!=6.5.0,<7,>=6.0.3 in /usr/local/lib/python3.12/dist-packages (from streamlit) (6.4.2)\n",
            "Requirement already satisfied: jinja2 in /usr/local/lib/python3.12/dist-packages (from altair!=5.4.0,!=5.4.1,<6,>=4.0->streamlit) (3.1.6)\n",
            "Requirement already satisfied: jsonschema>=3.0 in /usr/local/lib/python3.12/dist-packages (from altair!=5.4.0,!=5.4.1,<6,>=4.0->streamlit) (4.25.1)\n",
            "Requirement already satisfied: narwhals>=1.14.2 in /usr/local/lib/python3.12/dist-packages (from altair!=5.4.0,!=5.4.1,<6,>=4.0->streamlit) (2.2.0)\n",
            "Requirement already satisfied: gitdb<5,>=4.0.1 in /usr/local/lib/python3.12/dist-packages (from gitpython!=3.1.19,<4,>=3.0.7->streamlit) (4.0.12)\n",
            "Requirement already satisfied: python-dateutil>=2.8.2 in /usr/local/lib/python3.12/dist-packages (from pandas<3,>=1.4.0->streamlit) (2.9.0.post0)\n",
            "Requirement already satisfied: pytz>=2020.1 in /usr/local/lib/python3.12/dist-packages (from pandas<3,>=1.4.0->streamlit) (2025.2)\n",
            "Requirement already satisfied: tzdata>=2022.7 in /usr/local/lib/python3.12/dist-packages (from pandas<3,>=1.4.0->streamlit) (2025.2)\n",
            "Requirement already satisfied: charset_normalizer<4,>=2 in /usr/local/lib/python3.12/dist-packages (from requests<3,>=2.27->streamlit) (3.4.3)\n",
            "Requirement already satisfied: idna<4,>=2.5 in /usr/local/lib/python3.12/dist-packages (from requests<3,>=2.27->streamlit) (3.10)\n",
            "Requirement already satisfied: urllib3<3,>=1.21.1 in /usr/local/lib/python3.12/dist-packages (from requests<3,>=2.27->streamlit) (2.5.0)\n",
            "Requirement already satisfied: certifi>=2017.4.17 in /usr/local/lib/python3.12/dist-packages (from requests<3,>=2.27->streamlit) (2025.8.3)\n",
            "Requirement already satisfied: smmap<6,>=3.0.1 in /usr/local/lib/python3.12/dist-packages (from gitdb<5,>=4.0.1->gitpython!=3.1.19,<4,>=3.0.7->streamlit) (5.0.2)\n",
            "Requirement already satisfied: MarkupSafe>=2.0 in /usr/local/lib/python3.12/dist-packages (from jinja2->altair!=5.4.0,!=5.4.1,<6,>=4.0->streamlit) (3.0.2)\n",
            "Requirement already satisfied: attrs>=22.2.0 in /usr/local/lib/python3.12/dist-packages (from jsonschema>=3.0->altair!=5.4.0,!=5.4.1,<6,>=4.0->streamlit) (25.3.0)\n",
            "Requirement already satisfied: jsonschema-specifications>=2023.03.6 in /usr/local/lib/python3.12/dist-packages (from jsonschema>=3.0->altair!=5.4.0,!=5.4.1,<6,>=4.0->streamlit) (2025.4.1)\n",
            "Requirement already satisfied: referencing>=0.28.4 in /usr/local/lib/python3.12/dist-packages (from jsonschema>=3.0->altair!=5.4.0,!=5.4.1,<6,>=4.0->streamlit) (0.36.2)\n",
            "Requirement already satisfied: rpds-py>=0.7.1 in /usr/local/lib/python3.12/dist-packages (from jsonschema>=3.0->altair!=5.4.0,!=5.4.1,<6,>=4.0->streamlit) (0.27.0)\n",
            "Requirement already satisfied: six>=1.5 in /usr/local/lib/python3.12/dist-packages (from python-dateutil>=2.8.2->pandas<3,>=1.4.0->streamlit) (1.17.0)\n",
            "Downloading streamlit-1.49.1-py3-none-any.whl (10.0 MB)\n",
            "\u001b[2K   \u001b[90m━━━━━━━━━━━━━━━━━━━━━━━━━━━━━━━━━━━━━━━━\u001b[0m \u001b[32m10.0/10.0 MB\u001b[0m \u001b[31m116.9 MB/s\u001b[0m eta \u001b[36m0:00:00\u001b[0m\n",
            "\u001b[?25hDownloading pydeck-0.9.1-py2.py3-none-any.whl (6.9 MB)\n",
            "\u001b[2K   \u001b[90m━━━━━━━━━━━━━━━━━━━━━━━━━━━━━━━━━━━━━━━━\u001b[0m \u001b[32m6.9/6.9 MB\u001b[0m \u001b[31m117.3 MB/s\u001b[0m eta \u001b[36m0:00:00\u001b[0m\n",
            "\u001b[?25hBuilding wheels for collected packages: pyngrok\n",
            "  Building wheel for pyngrok (setup.py) ... \u001b[?25l\u001b[?25hdone\n",
            "  Created wheel for pyngrok: filename=pyngrok-4.1.1-py3-none-any.whl size=15963 sha256=dd1cc3b19eabc2068a66a63dace5c60581dc69bea45918923abb44d243643427\n",
            "  Stored in directory: /root/.cache/pip/wheels/0d/1f/e9/3ce954f5c5d9d30ec279ad8bc5d44666a64fb4be782cb39a2d\n",
            "Successfully built pyngrok\n",
            "Installing collected packages: pyngrok, pydeck, streamlit\n",
            "Successfully installed pydeck-0.9.1 pyngrok-4.1.1 streamlit-1.49.1\n"
          ]
        }
      ],
      "source": [
        "!pip install streamlit pyngrok==4.1.1"
      ]
    },
    {
      "cell_type": "code",
      "source": [
        "%%writefile chatbot.py\n",
        "import json\n",
        "import random\n",
        "import re\n",
        "from difflib import SequenceMatcher\n",
        "from typing import List, Dict, Tuple\n",
        "\n",
        "class KeywordChatbot:\n",
        "    def __init__(self, intents: List[Dict], fuzzy: bool = True, threshold: float = 0.85):\n",
        "        self.intents = intents\n",
        "        self.fuzzy = fuzzy\n",
        "        self.threshold = threshold\n",
        "\n",
        "    def _preprocess(self, text: str) -> Tuple[str, set]:\n",
        "        text = text.lower().strip()\n",
        "        text_no_punct = re.sub(r\"[^\\w\\s]\", \" \", text)\n",
        "        tokens = set(text_no_punct.split())\n",
        "        return text, tokens\n",
        "\n",
        "    def _keyword_hit(self, kw: str, text: str, tokens: set) -> int:\n",
        "        kw = kw.lower().strip()\n",
        "        if \" \" in kw:  # phrase match\n",
        "            return 1 if kw in text else 0\n",
        "        if kw in tokens:  # exact match\n",
        "            return 1\n",
        "        if self.fuzzy:  # fuzzy match for typos\n",
        "            for t in tokens:\n",
        "                if SequenceMatcher(a=kw, b=t).ratio() >= self.threshold:\n",
        "                    return 1\n",
        "        return 0\n",
        "\n",
        "    def _best_intent(self, user_text: str) -> Tuple[str, int]:\n",
        "        text, tokens = self._preprocess(user_text)\n",
        "        best_tag, best_score = None, 0\n",
        "\n",
        "        for intent in self.intents:\n",
        "            score = sum(self._keyword_hit(kw, text, tokens) for kw in intent.get(\"keywords\", []))\n",
        "            if score > best_score:\n",
        "                best_score, best_tag = score, intent.get(\"tag\")\n",
        "\n",
        "        return best_tag, best_score\n",
        "\n",
        "    def reply(self, user_text: str) -> str:\n",
        "        tag, score = self._best_intent(user_text)\n",
        "        if not tag or score == 0:\n",
        "            return \"Sorry, I didn't catch that. Try 'hello', 'thanks', or 'bye'.\"\n",
        "        for intent in self.intents:\n",
        "            if intent.get(\"tag\") == tag:\n",
        "                return random.choice(intent.get(\"responses\", [\"...\"]))\n",
        "        return \"...\"\n",
        "\n",
        "def load_intents(path: str = \"intents.json\") -> List[Dict]:\n",
        "    with open(path, \"r\", encoding=\"utf-8\") as f:\n",
        "        data = json.load(f)\n",
        "    return data.get(\"intents\", [])"
      ],
      "metadata": {
        "colab": {
          "base_uri": "https://localhost:8080/"
        },
        "id": "PoJhc-d7_m1k",
        "outputId": "47ad4147-49c1-4be9-9c70-d427e2eb9eee"
      },
      "execution_count": 2,
      "outputs": [
        {
          "output_type": "stream",
          "name": "stdout",
          "text": [
            "Writing chatbot.py\n"
          ]
        }
      ]
    },
    {
      "cell_type": "code",
      "source": [
        "%%writefile intents.json\n",
        "{\n",
        "  \"intents\": [\n",
        "    {\n",
        "      \"tag\": \"greet\",\n",
        "      \"keywords\": [\"hello\", \"hi\", \"hey\", \"salam\", \"assalamualaikum\", \"good morning\"],\n",
        "      \"responses\": [\"Hello! 👋\", \"Hi there!\", \"Hey! How can I help?\"]\n",
        "    },\n",
        "    {\n",
        "      \"tag\": \"goodbye\",\n",
        "      \"keywords\": [\"bye\", \"goodbye\", \"see you\", \"later\"],\n",
        "      \"responses\": [\"Bye! 👋\", \"See you later!\", \"Take care!\"]\n",
        "    },\n",
        "    {\n",
        "      \"tag\": \"thanks\",\n",
        "      \"keywords\": [\"thanks\", \"thank you\", \"appreciate\"],\n",
        "      \"responses\": [\"You're welcome!\", \"Anytime!\", \"Happy to help!\"]\n",
        "    },\n",
        "    {\n",
        "      \"tag\": \"name\",\n",
        "      \"keywords\": [\"your name\", \"who are you\"],\n",
        "      \"responses\": [\"I'm a simple keyword bot.\", \"Just your friendly chatbot 🙂\"]\n",
        "    },\n",
        "    {\n",
        "      \"tag\": \"help\",\n",
        "      \"keywords\": [\"help\", \"what can you do\"],\n",
        "      \"responses\": [\"Try greeting me, asking my name, or say bye.\", \"I respond to keywords like 'hello', 'thanks', 'bye'.\"]\n",
        "    },\n",
        "    {\n",
        "      \"tag\": \"joke\",\n",
        "      \"keywords\": [\"joke\", \"funny\"],\n",
        "      \"responses\": [\"Why did the function cross the road? To get to the other side effect.\"]\n",
        "    }\n",
        "  ]\n",
        "}\n"
      ],
      "metadata": {
        "colab": {
          "base_uri": "https://localhost:8080/"
        },
        "id": "dZuon6aL_-cD",
        "outputId": "19aef97c-43c7-4bd5-9788-911336767c83"
      },
      "execution_count": 3,
      "outputs": [
        {
          "output_type": "stream",
          "name": "stdout",
          "text": [
            "Writing intents.json\n"
          ]
        }
      ]
    },
    {
      "cell_type": "code",
      "source": [
        "%%writefile app.py\n",
        "import streamlit as st\n",
        "from chatbot import KeywordChatbot, load_intents\n",
        "\n",
        "st.set_page_config(page_title=\"Keyword Chatbot\", page_icon=\"🤖\")\n",
        "st.title(\"Keyword Chatbot 🤖\")\n",
        "st.caption(\"Simple keyword-based chatbot running in Colab!\")\n",
        "\n",
        "\n",
        "intents = load_intents(\"intents.json\")\n",
        "bot = KeywordChatbot(intents=intents, fuzzy=True, threshold=0.85)\n",
        "\n",
        "if \"chat\" not in st.session_state:\n",
        "    st.session_state.chat = []\n",
        "\n",
        "\n",
        "user_input = st.text_input(\"You:\", placeholder=\"Say hello, ask for a joke, or type 'bye'...\")\n",
        "if st.button(\"Send\") and user_input.strip():\n",
        "    reply = bot.reply(user_input)\n",
        "    st.session_state.chat.append((\"You\", user_input))\n",
        "    st.session_state.chat.append((\"Bot\", reply))\n",
        "\n",
        "\n",
        "for speaker, msg in st.session_state.chat:\n",
        "    st.markdown(f\"**{speaker}:** {msg}\")\n"
      ],
      "metadata": {
        "colab": {
          "base_uri": "https://localhost:8080/"
        },
        "id": "kkkRqUOyAEt2",
        "outputId": "ff84b0aa-9d8c-42fb-bdd3-533e8671fff4"
      },
      "execution_count": 4,
      "outputs": [
        {
          "output_type": "stream",
          "name": "stdout",
          "text": [
            "Writing app.py\n"
          ]
        }
      ]
    },
    {
      "cell_type": "markdown",
      "metadata": {
        "id": "f1f59fc7"
      },
      "source": [
        "# Task\n",
        "Explain the error in the selected code, resolve the issue, and explain the corrected code."
      ]
    },
    {
      "cell_type": "markdown",
      "metadata": {
        "id": "565a404c"
      },
      "source": [
        "## Verify ngrok authtoken\n",
        "\n",
        "### Subtask:\n",
        "Double-check that the NGROK_AUTHTOKEN is correctly added to Colab secrets and that there are no typos.\n"
      ]
    },
    {
      "cell_type": "markdown",
      "metadata": {
        "id": "33c94a55"
      },
      "source": [
        "## Check streamlit process\n",
        "\n",
        "### Subtask:\n",
        "Confirm that the Streamlit app is running in the background after executing the cell.\n"
      ]
    },
    {
      "cell_type": "markdown",
      "metadata": {
        "id": "cc441221"
      },
      "source": [
        "**Reasoning**:\n",
        "Execute a shell command to list processes and filter for those containing \"streamlit\" to confirm if the Streamlit app is running in the background.\n",
        "\n"
      ]
    },
    {
      "cell_type": "code",
      "metadata": {
        "colab": {
          "base_uri": "https://localhost:8080/"
        },
        "id": "2f975016",
        "outputId": "c2c9007d-1778-4e9d-d9d4-db8c57ea646f"
      },
      "source": [
        "!ps aux | grep streamlit"
      ],
      "execution_count": 9,
      "outputs": [
        {
          "output_type": "stream",
          "name": "stdout",
          "text": [
            "root        3438  0.4  0.5  84368 68404 ?        S    10:48   0:00 /usr/bin/python3 /usr/local/bin/streamlit run app.py --server.port 8501\n",
            "root        4133  0.0  0.0   7376  3484 ?        S    10:50   0:00 /bin/bash -c ps aux | grep streamlit\n",
            "root        4135  0.0  0.0   6484  2372 ?        S    10:50   0:00 grep streamlit\n"
          ]
        }
      ]
    },
    {
      "cell_type": "markdown",
      "metadata": {
        "id": "c5bf3cf3"
      },
      "source": [
        "## Check ngrok connection\n",
        "\n",
        "### Subtask:\n",
        "Verify if ngrok is able to establish a connection to the specified port.\n"
      ]
    },
    {
      "cell_type": "markdown",
      "metadata": {
        "id": "75577f4d"
      },
      "source": [
        "**Reasoning**:\n",
        "Attempt to establish an ngrok connection to port 8501 and print the public URL or any error encountered.\n",
        "\n"
      ]
    },
    {
      "cell_type": "code",
      "metadata": {
        "colab": {
          "base_uri": "https://localhost:8080/"
        },
        "id": "b15022d2",
        "outputId": "ba3d2801-8655-45ca-c58f-c075b2d20f07"
      },
      "source": [
        "try:\n",
        "    public_url = ngrok.connect(8501)\n",
        "    print(\"👉 Open your chatbot here:\", public_url.public_url)\n",
        "except Exception as e:\n",
        "    print(\"Error connecting with ngrok:\", e)\n"
      ],
      "execution_count": 10,
      "outputs": [
        {
          "output_type": "stream",
          "name": "stderr",
          "text": [
            "ERROR:pyngrok.process:t=2025-09-02T10:51:08+0000 lvl=eror msg=\"failed to auth\" obj=tunnels.session err=\"Usage of ngrok requires a verified account and authtoken.\\n\\nSign up for an account: https://dashboard.ngrok.com/signup\\nInstall your authtoken: https://dashboard.ngrok.com/get-started/your-authtoken\\r\\n\\r\\nERR_NGROK_4018\\r\\n\"\n",
            "\n"
          ]
        },
        {
          "output_type": "stream",
          "name": "stdout",
          "text": [
            "Error connecting with ngrok: The ngrok process errored on start: Usage of ngrok requires a verified account and authtoken.\\n\\nSign up for an account: https://dashboard.ngrok.com/signup\\nInstall your authtoken: https://dashboard.ngrok.com/get-started/your-authtoken\\r\\n\\r\\nERR_NGROK_4018\\r\\n.\n"
          ]
        }
      ]
    },
    {
      "cell_type": "markdown",
      "metadata": {
        "id": "805087ed"
      },
      "source": [
        "## Provide error message\n",
        "\n",
        "### Subtask:\n",
        "Provide the exact error message encountered when trying to set the ngrok authtoken.\n"
      ]
    },
    {
      "cell_type": "markdown",
      "metadata": {
        "id": "f1a9ae72"
      },
      "source": [
        "## Summary:\n",
        "\n",
        "### Data Analysis Key Findings\n",
        "\n",
        "*   Manual verification of the `NGROK_AUTHTOKEN` in Colab secrets was required and could not be performed programmatically.\n",
        "*   The Streamlit app was confirmed to be running in the background on port 8501, as indicated by the presence of the process `/usr/bin/python3 /usr/local/bin/streamlit run app.py --server.port 8501`.\n",
        "*   Attempting to connect ngrok to port 8501 failed with the error `ERR_NGROK_4018`, indicating an authentication failure: \"Usage of ngrok requires a verified account and authtoken.\"\n",
        "*   An `AttributeError: module 'ngrok' has no attribute 'set_auth_token'` was encountered when attempting to set the ngrok authtoken, suggesting that the imported `ngrok` module does not have this function.\n",
        "\n",
        "### Insights or Next Steps\n",
        "\n",
        "*   Manually verify that the `NGROK_AUTHTOKEN` is correctly added and accessible within the Colab environment's secrets.\n",
        "*   Investigate the correct method or function to set the authentication token for the specific `ngrok` library version being used, as `set_auth_token` appears to be incorrect.\n"
      ]
    },
    {
      "cell_type": "code",
      "metadata": {
        "colab": {
          "base_uri": "https://localhost:8080/"
        },
        "id": "50be7276",
        "outputId": "46ec116f-42ea-42a4-f171-6d6b1301e3d2"
      },
      "source": [
        "!ps aux | grep streamlit"
      ],
      "execution_count": 11,
      "outputs": [
        {
          "output_type": "stream",
          "name": "stdout",
          "text": [
            "root        3438  0.2  0.5  84368 68404 ?        S    10:48   0:00 /usr/bin/python3 /usr/local/bin/streamlit run app.py --server.port 8501\n",
            "root        4537  0.0  0.0   7376  3536 ?        S    10:52   0:00 /bin/bash -c ps aux | grep streamlit\n",
            "root        4539  0.0  0.0   6484  2304 ?        S    10:52   0:00 grep streamlit\n"
          ]
        }
      ]
    },
    {
      "cell_type": "code",
      "metadata": {
        "colab": {
          "base_uri": "https://localhost:8080/"
        },
        "id": "a6976d47",
        "outputId": "0739ac10-d0ba-4e31-8d5b-f3044cfec60c"
      },
      "source": [
        "from pyngrok import ngrok\n",
        "from google.colab import userdata\n",
        "\n",
        "try:\n",
        "    # Set the ngrok authtoken\n",
        "    ngrok.set_auth_token(userdata.get(\"NGROK_AUTHTOKEN\"))\n",
        "    public_url = ngrok.connect(8501)\n",
        "    print(\"👉 Open your chatbot here:\", public_url.public_url)\n",
        "except Exception as e:\n",
        "    print(\"Error connecting with ngrok:\", e)"
      ],
      "execution_count": 13,
      "outputs": [
        {
          "output_type": "stream",
          "name": "stderr",
          "text": [
            "ERROR:pyngrok.process:t=2025-09-02T10:53:13+0000 lvl=eror msg=\"failed to auth\" obj=tunnels.session err=\"Your ngrok-agent version \\\"2.3.41\\\" is too old. The minimum supported agent version for your account is \\\"3.7.0\\\". Please update to a newer version with `ngrok update`, by downloading from https://ngrok.com/download, or by updating your SDK version. Paid accounts are currently excluded from minimum agent version requirements. To begin handling traffic immediately without updating your agent, upgrade to a paid plan: https://dashboard.ngrok.com/billing/subscription.\\r\\n\\r\\nERR_NGROK_121\\r\\n\"\n",
            "\n"
          ]
        },
        {
          "output_type": "stream",
          "name": "stdout",
          "text": [
            "Error connecting with ngrok: The ngrok process errored on start: Your ngrok-agent version \"2.3.41\" is too old. The minimum supported agent version for your account is \"3.7.0\". Please update to a newer version with `ngrok update`, by downloading from https://ngrok.com/download, or by updating your SDK version. Paid accounts are currently excluded from minimum agent version requirements. To begin handling traffic immediately without updating your agent, upgrade to a paid plan: https://dashboard.ngrok.com/billing/subscription.\\r\\n\\r\\nERR_NGROK_121\\r\\n.\n"
          ]
        }
      ]
    },
    {
      "cell_type": "code",
      "metadata": {
        "colab": {
          "base_uri": "https://localhost:8080/"
        },
        "id": "3f1bf4e2",
        "outputId": "d9f665cf-ee18-45b2-d9b7-aa0bdd15c09f"
      },
      "source": [
        "!pip install --upgrade pyngrok"
      ],
      "execution_count": 1,
      "outputs": [
        {
          "output_type": "stream",
          "name": "stdout",
          "text": [
            "Requirement already satisfied: pyngrok in /usr/local/lib/python3.12/dist-packages (7.3.0)\n",
            "Requirement already satisfied: PyYAML>=5.1 in /usr/local/lib/python3.12/dist-packages (from pyngrok) (6.0.2)\n"
          ]
        }
      ]
    },
    {
      "cell_type": "code",
      "source": [
        "import os\n",
        "token = os.environ.get(\"NGROK_AUTHTOKEN\")\n",
        "!ngrok config add-authtoken $token\n"
      ],
      "metadata": {
        "colab": {
          "base_uri": "https://localhost:8080/"
        },
        "id": "7YRnAw3NEamT",
        "outputId": "757e352f-ed86-46c5-e2a7-63ea136e40e2"
      },
      "execution_count": 2,
      "outputs": [
        {
          "output_type": "stream",
          "name": "stdout",
          "text": [
            "Authtoken saved to configuration file: /root/.config/ngrok/ngrok.yml\n"
          ]
        }
      ]
    },
    {
      "cell_type": "code",
      "source": [
        "from pyngrok import ngrok\n",
        "\n",
        "!pkill streamlit || echo \"no streamlit running\"\n",
        "get_ipython().system_raw(\"streamlit run app.py --server.port 8501 &\")\n",
        "\n",
        "public_url = ngrok.connect(8501)\n",
        "print(\"👉 Open your chatbot here:\", public_url.public_url)\n"
      ],
      "metadata": {
        "colab": {
          "base_uri": "https://localhost:8080/",
          "height": 532
        },
        "id": "4mFTAXC1EiN2",
        "outputId": "bd5e6802-23d4-40a4-f7be-656a23bfd798"
      },
      "execution_count": 3,
      "outputs": [
        {
          "output_type": "stream",
          "name": "stdout",
          "text": [
            "no streamlit running\n"
          ]
        },
        {
          "output_type": "stream",
          "name": "stderr",
          "text": [
            "WARNING:pyngrok.process.ngrok:t=2025-09-02T10:56:58+0000 lvl=warn msg=\"ngrok config file found at both XDG and legacy locations, using XDG location\" xdg_path=/root/.config/ngrok/ngrok.yml legacy_path=/root/.ngrok2/ngrok.yml\n",
            "ERROR:pyngrok.process.ngrok:t=2025-09-02T10:56:59+0000 lvl=eror msg=\"failed to reconnect session\" obj=tunnels.session err=\"authentication failed: The authtoken you specified does not look like a proper ngrok tunnel authtoken.\\nYour authtoken: None\\nInstructions to install your authtoken are on your ngrok dashboard:\\nhttps://dashboard.ngrok.com/get-started/your-authtoken\\r\\n\\r\\nERR_NGROK_105\\r\\n\"\n",
            "ERROR:pyngrok.process.ngrok:t=2025-09-02T10:56:59+0000 lvl=eror msg=\"session closing\" obj=tunnels.session err=\"authentication failed: The authtoken you specified does not look like a proper ngrok tunnel authtoken.\\nYour authtoken: None\\nInstructions to install your authtoken are on your ngrok dashboard:\\nhttps://dashboard.ngrok.com/get-started/your-authtoken\\r\\n\\r\\nERR_NGROK_105\\r\\n\"\n",
            "ERROR:pyngrok.process.ngrok:t=2025-09-02T10:56:59+0000 lvl=eror msg=\"terminating with error\" obj=app err=\"authentication failed: The authtoken you specified does not look like a proper ngrok tunnel authtoken.\\nYour authtoken: None\\nInstructions to install your authtoken are on your ngrok dashboard:\\nhttps://dashboard.ngrok.com/get-started/your-authtoken\\r\\n\\r\\nERR_NGROK_105\\r\\n\"\n",
            "CRITICAL:pyngrok.process.ngrok:t=2025-09-02T10:56:59+0000 lvl=crit msg=\"command failed\" err=\"authentication failed: The authtoken you specified does not look like a proper ngrok tunnel authtoken.\\nYour authtoken: None\\nInstructions to install your authtoken are on your ngrok dashboard:\\nhttps://dashboard.ngrok.com/get-started/your-authtoken\\r\\n\\r\\nERR_NGROK_105\\r\\n\"\n"
          ]
        },
        {
          "output_type": "error",
          "ename": "PyngrokNgrokError",
          "evalue": "The ngrok process errored on start: authentication failed: The authtoken you specified does not look like a proper ngrok tunnel authtoken.\\nYour authtoken: None\\nInstructions to install your authtoken are on your ngrok dashboard:\\nhttps://dashboard.ngrok.com/get-started/your-authtoken\\r\\n\\r\\nERR_NGROK_105\\r\\n.",
          "traceback": [
            "\u001b[0;31m---------------------------------------------------------------------------\u001b[0m",
            "\u001b[0;31mPyngrokNgrokError\u001b[0m                         Traceback (most recent call last)",
            "\u001b[0;32m/tmp/ipython-input-1506575846.py\u001b[0m in \u001b[0;36m<cell line: 0>\u001b[0;34m()\u001b[0m\n\u001b[1;32m      4\u001b[0m \u001b[0mget_ipython\u001b[0m\u001b[0;34m(\u001b[0m\u001b[0;34m)\u001b[0m\u001b[0;34m.\u001b[0m\u001b[0msystem_raw\u001b[0m\u001b[0;34m(\u001b[0m\u001b[0;34m\"streamlit run app.py --server.port 8501 &\"\u001b[0m\u001b[0;34m)\u001b[0m\u001b[0;34m\u001b[0m\u001b[0;34m\u001b[0m\u001b[0m\n\u001b[1;32m      5\u001b[0m \u001b[0;34m\u001b[0m\u001b[0m\n\u001b[0;32m----> 6\u001b[0;31m \u001b[0mpublic_url\u001b[0m \u001b[0;34m=\u001b[0m \u001b[0mngrok\u001b[0m\u001b[0;34m.\u001b[0m\u001b[0mconnect\u001b[0m\u001b[0;34m(\u001b[0m\u001b[0;36m8501\u001b[0m\u001b[0;34m)\u001b[0m\u001b[0;34m\u001b[0m\u001b[0;34m\u001b[0m\u001b[0m\n\u001b[0m\u001b[1;32m      7\u001b[0m \u001b[0mprint\u001b[0m\u001b[0;34m(\u001b[0m\u001b[0;34m\"👉 Open your chatbot here:\"\u001b[0m\u001b[0;34m,\u001b[0m \u001b[0mpublic_url\u001b[0m\u001b[0;34m.\u001b[0m\u001b[0mpublic_url\u001b[0m\u001b[0;34m)\u001b[0m\u001b[0;34m\u001b[0m\u001b[0;34m\u001b[0m\u001b[0m\n",
            "\u001b[0;32m/usr/local/lib/python3.12/dist-packages/pyngrok/ngrok.py\u001b[0m in \u001b[0;36mconnect\u001b[0;34m(addr, proto, name, pyngrok_config, **options)\u001b[0m\n\u001b[1;32m    383\u001b[0m     \u001b[0mlogger\u001b[0m\u001b[0;34m.\u001b[0m\u001b[0minfo\u001b[0m\u001b[0;34m(\u001b[0m\u001b[0;34mf\"Opening tunnel named: {name}\"\u001b[0m\u001b[0;34m)\u001b[0m\u001b[0;34m\u001b[0m\u001b[0;34m\u001b[0m\u001b[0m\n\u001b[1;32m    384\u001b[0m \u001b[0;34m\u001b[0m\u001b[0m\n\u001b[0;32m--> 385\u001b[0;31m     \u001b[0mapi_url\u001b[0m \u001b[0;34m=\u001b[0m \u001b[0mget_ngrok_process\u001b[0m\u001b[0;34m(\u001b[0m\u001b[0mpyngrok_config\u001b[0m\u001b[0;34m)\u001b[0m\u001b[0;34m.\u001b[0m\u001b[0mapi_url\u001b[0m\u001b[0;34m\u001b[0m\u001b[0;34m\u001b[0m\u001b[0m\n\u001b[0m\u001b[1;32m    386\u001b[0m \u001b[0;34m\u001b[0m\u001b[0m\n\u001b[1;32m    387\u001b[0m     \u001b[0mlogger\u001b[0m\u001b[0;34m.\u001b[0m\u001b[0mdebug\u001b[0m\u001b[0;34m(\u001b[0m\u001b[0;34mf\"Creating tunnel with options: {options}\"\u001b[0m\u001b[0;34m)\u001b[0m\u001b[0;34m\u001b[0m\u001b[0;34m\u001b[0m\u001b[0m\n",
            "\u001b[0;32m/usr/local/lib/python3.12/dist-packages/pyngrok/ngrok.py\u001b[0m in \u001b[0;36mget_ngrok_process\u001b[0;34m(pyngrok_config)\u001b[0m\n\u001b[1;32m    201\u001b[0m     \u001b[0minstall_ngrok\u001b[0m\u001b[0;34m(\u001b[0m\u001b[0mpyngrok_config\u001b[0m\u001b[0;34m)\u001b[0m\u001b[0;34m\u001b[0m\u001b[0;34m\u001b[0m\u001b[0m\n\u001b[1;32m    202\u001b[0m \u001b[0;34m\u001b[0m\u001b[0m\n\u001b[0;32m--> 203\u001b[0;31m     \u001b[0;32mreturn\u001b[0m \u001b[0mprocess\u001b[0m\u001b[0;34m.\u001b[0m\u001b[0mget_process\u001b[0m\u001b[0;34m(\u001b[0m\u001b[0mpyngrok_config\u001b[0m\u001b[0;34m)\u001b[0m\u001b[0;34m\u001b[0m\u001b[0;34m\u001b[0m\u001b[0m\n\u001b[0m\u001b[1;32m    204\u001b[0m \u001b[0;34m\u001b[0m\u001b[0m\n\u001b[1;32m    205\u001b[0m \u001b[0;34m\u001b[0m\u001b[0m\n",
            "\u001b[0;32m/usr/local/lib/python3.12/dist-packages/pyngrok/process.py\u001b[0m in \u001b[0;36mget_process\u001b[0;34m(pyngrok_config)\u001b[0m\n\u001b[1;32m    269\u001b[0m         \u001b[0;32mreturn\u001b[0m \u001b[0m_current_processes\u001b[0m\u001b[0;34m[\u001b[0m\u001b[0mpyngrok_config\u001b[0m\u001b[0;34m.\u001b[0m\u001b[0mngrok_path\u001b[0m\u001b[0;34m]\u001b[0m\u001b[0;34m\u001b[0m\u001b[0;34m\u001b[0m\u001b[0m\n\u001b[1;32m    270\u001b[0m \u001b[0;34m\u001b[0m\u001b[0m\n\u001b[0;32m--> 271\u001b[0;31m     \u001b[0;32mreturn\u001b[0m \u001b[0m_start_process\u001b[0m\u001b[0;34m(\u001b[0m\u001b[0mpyngrok_config\u001b[0m\u001b[0;34m)\u001b[0m\u001b[0;34m\u001b[0m\u001b[0;34m\u001b[0m\u001b[0m\n\u001b[0m\u001b[1;32m    272\u001b[0m \u001b[0;34m\u001b[0m\u001b[0m\n\u001b[1;32m    273\u001b[0m \u001b[0;34m\u001b[0m\u001b[0m\n",
            "\u001b[0;32m/usr/local/lib/python3.12/dist-packages/pyngrok/process.py\u001b[0m in \u001b[0;36m_start_process\u001b[0;34m(pyngrok_config)\u001b[0m\n\u001b[1;32m    445\u001b[0m \u001b[0;34m\u001b[0m\u001b[0m\n\u001b[1;32m    446\u001b[0m         \u001b[0;32mif\u001b[0m \u001b[0mngrok_process\u001b[0m\u001b[0;34m.\u001b[0m\u001b[0mstartup_error\u001b[0m \u001b[0;32mis\u001b[0m \u001b[0;32mnot\u001b[0m \u001b[0;32mNone\u001b[0m\u001b[0;34m:\u001b[0m\u001b[0;34m\u001b[0m\u001b[0;34m\u001b[0m\u001b[0m\n\u001b[0;32m--> 447\u001b[0;31m             raise PyngrokNgrokError(f\"The ngrok process errored on start: {ngrok_process.startup_error}.\",\n\u001b[0m\u001b[1;32m    448\u001b[0m                                     \u001b[0mngrok_process\u001b[0m\u001b[0;34m.\u001b[0m\u001b[0mlogs\u001b[0m\u001b[0;34m,\u001b[0m\u001b[0;34m\u001b[0m\u001b[0;34m\u001b[0m\u001b[0m\n\u001b[1;32m    449\u001b[0m                                     ngrok_process.startup_error)\n",
            "\u001b[0;31mPyngrokNgrokError\u001b[0m: The ngrok process errored on start: authentication failed: The authtoken you specified does not look like a proper ngrok tunnel authtoken.\\nYour authtoken: None\\nInstructions to install your authtoken are on your ngrok dashboard:\\nhttps://dashboard.ngrok.com/get-started/your-authtoken\\r\\n\\r\\nERR_NGROK_105\\r\\n."
          ]
        }
      ]
    },
    {
      "cell_type": "code",
      "metadata": {
        "colab": {
          "base_uri": "https://localhost:8080/"
        },
        "id": "42e439ed",
        "outputId": "d10e192e-64bc-4774-dd15-6f7779fa99e4"
      },
      "source": [
        "import os\n",
        "from google.colab import userdata\n",
        "\n",
        "# Get the authtoken from Colab secrets\n",
        "token = userdata.get(\"NGROK_AUTHTOKEN\")\n",
        "\n",
        "# Set the authtoken using the ngrok command line\n",
        "# This writes the token to the ngrok configuration file\n",
        "!ngrok config add-authtoken $token"
      ],
      "execution_count": 4,
      "outputs": [
        {
          "output_type": "stream",
          "name": "stdout",
          "text": [
            "Authtoken saved to configuration file: /root/.config/ngrok/ngrok.yml\n"
          ]
        }
      ]
    },
    {
      "cell_type": "code",
      "metadata": {
        "colab": {
          "base_uri": "https://localhost:8080/"
        },
        "id": "047c9ca2",
        "outputId": "d40cf08e-dafc-48bb-93d7-4fa939e5d703"
      },
      "source": [
        "import os\n",
        "from google.colab import userdata\n",
        "\n",
        "# Get the authtoken from Colab secrets\n",
        "token = userdata.get(\"NGROK_AUTHTOKEN\")\n",
        "\n",
        "# Set the authtoken using the ngrok command line\n",
        "# This writes the token to the ngrok configuration file\n",
        "!ngrok config add-authtoken $token"
      ],
      "execution_count": 5,
      "outputs": [
        {
          "output_type": "stream",
          "name": "stdout",
          "text": [
            "Authtoken saved to configuration file: /root/.config/ngrok/ngrok.yml\n"
          ]
        }
      ]
    },
    {
      "cell_type": "code",
      "source": [
        "from pyngrok import ngrok\n",
        "from google.colab import userdata\n",
        "\n",
        "# Kill any existing Streamlit processes\n",
        "!pkill streamlit || echo \"no streamlit running\"\n",
        "\n",
        "# Run Streamlit in background\n",
        "get_ipython().system_raw(\"streamlit run app.py --server.port 8501 &\")\n",
        "\n",
        "# Set the ngrok authtoken using pyngrok\n",
        "ngrok.set_auth_token(userdata.get(\"NGROK_AUTHTOKEN\"))\n",
        "\n",
        "# Expose with ngrok\n",
        "public_url = ngrok.connect(8501)\n",
        "print(\"👉 Open your chatbot here:\", public_url.public_url)"
      ],
      "metadata": {
        "colab": {
          "base_uri": "https://localhost:8080/"
        },
        "id": "OkzOcbfQFjw9",
        "outputId": "01cc7271-e011-49c9-a5b3-3e465cbc642d"
      },
      "execution_count": 6,
      "outputs": [
        {
          "output_type": "stream",
          "name": "stderr",
          "text": [
            "WARNING:pyngrok.process.ngrok:t=2025-09-02T11:01:26+0000 lvl=warn msg=\"ngrok config file found at both XDG and legacy locations, using XDG location\" xdg_path=/root/.config/ngrok/ngrok.yml legacy_path=/root/.ngrok2/ngrok.yml\n"
          ]
        },
        {
          "output_type": "stream",
          "name": "stdout",
          "text": [
            "👉 Open your chatbot here: https://2288ea4c28f5.ngrok-free.app\n"
          ]
        }
      ]
    }
  ]
}